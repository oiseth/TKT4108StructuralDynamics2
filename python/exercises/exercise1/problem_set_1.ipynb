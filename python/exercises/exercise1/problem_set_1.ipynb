{
 "cells": [
  {
   "cell_type": "markdown",
   "id": "5e3b373c-fef9-4fff-8d5c-f42dc74db8be",
   "metadata": {},
   "source": [
    "# TKT4108 Structural dynamics 2\n",
    "\n",
    "## Exercise 1\n",
    "\n",
    "**Main topics:** Repetition of fundamental structural dynamics\n",
    "\n",
    "**References:** Lecture notes from TKT 4201 Structural Dynamics 1\n",
    "\n",
    "### Problem 1: Dynamic response for a single degree of freedom\n",
    "\n",
    "Consider the rigid beam in the figure. The beam has a uniform mass per length $m$ and concentrated mass at the end $\\frac{3mL}{10}$. The beam can be modelled with one degree of freedom $u$.\n",
    "\n",
    "Set $m=100$ kg/m, $L=10$ m, $k=10^5$ N/m.\n",
    "\n",
    "<img src=\"Beam.svg\">\n",
    "\n",
    "\n",
    "a) Set up the equation of motion by using moment equilibrium about point A.\n",
    "\n",
    "b) Find the undamped natural frequency $\\omega_n$.\n",
    "\n",
    "c) Find the value of $c$ such that the system has 2\\% damping.\n",
    "\n",
    "d) The beam is subjected to a forced harmonic load $p(t)=p_0 \\cos(\\Omega t)$, where $p_0=10^3$ N and $\\Omega=5$ rad/s. Find by hand calculation the steady state amplitude of $u(t)$.\n",
    "\n",
    "e) Use Newmark numerical integration to calculate the dynamic response to the load defined in question d). Use a time step $\\Delta t=0.01$ s and simulation length $T=60$ s. Set the initial conditions to rest ($u=0$, $\\dot{u}=0$). Plot the response and compare the steady state amplitude to the one found in question d).\n",
    "\n",
    "f) Compare the response from in question e) to a quasi-static solution of the response. The quasi-static response can be obtained by removing all velocity and acceleration terms from the equation of motion, and solving for the displacement directly. Comment on the results (hint: dynamic magnification).\n",
    "\n",
    "g) How much would the load frequency $\\Omega$ need to increase for a dynamic response magnification of 10?"
   ]
  },
  {
   "cell_type": "markdown",
   "id": "e8f9e8c5-dbc5-4227-b8e6-136c5e163114",
   "metadata": {},
   "source": [
    "### Problem 2: Dynamic response for multiple degrees of freedom\n",
    "\n",
    "The bridge in the figure has 4 rotational degrees of freedom.\n",
    "\n",
    "Set $m=1000$ kg/m, $L=10$ m, $EI=10^9$ Nm$^2$.\n",
    "\n",
    "<img src=\"Bridge.svg\">\n",
    "\n",
    "\n",
    "a) Set up the mass and stiffness matrices. Use the consistent element matrices of a standard beam element (see formula sheet) to assign the matrix items of $\\mathbf{M}$ and $\\mathbf{K}$.\n",
    "\n",
    "b) Calculate the natural frequencies and mode shapes. Sketch the mode shapes.\n",
    "\n",
    "c) Assume the structure is Rayleigh damped, $\\mathbf{C}=\\alpha \\mathbf{M}+\\beta \\mathbf{K}$. Find $\\alpha$ and $\\beta$ such that modes 1 and 4 have 1.5% damping. What is the resulting damping in modes 2 and 3?\n",
    "\n",
    "d) The bridge has a forced harmonic moment $p(t)=p_0 \\sin(\\Omega t)$ in DOF 2, where $p_0=10^3$ Nm and $\\Omega=xxx$ rad/s. Use Newmark numerical integration to calculate the dynamic response. Use a simulation length $T=100$ s, and determine a time step $\\Delta t$ such that there are at least 20 data points per vibration cycle for mode 4. Set the initial conditions to rest ($\\mathbf{u}=\\mathbf{0}$, $\\dot{\\mathbf{u}}=\\mathbf{0}$).\n",
    "\n",
    "e) The structure has no degree of freedom in the middle of the bridge. Explain how you still can find the vertical response at this location (hint: Hermittian shape functions of a beam element).\n"
   ]
  }
 ],
 "metadata": {
  "kernelspec": {
   "display_name": "Python 3 (ipykernel)",
   "language": "python",
   "name": "python3"
  },
  "language_info": {
   "codemirror_mode": {
    "name": "ipython",
    "version": 3
   },
   "file_extension": ".py",
   "mimetype": "text/x-python",
   "name": "python",
   "nbconvert_exporter": "python",
   "pygments_lexer": "ipython3",
   "version": "3.11.7"
  },
  "toc-autonumbering": false,
  "toc-showcode": true,
  "toc-showmarkdowntxt": false,
  "toc-showtags": false
 },
 "nbformat": 4,
 "nbformat_minor": 5
}
