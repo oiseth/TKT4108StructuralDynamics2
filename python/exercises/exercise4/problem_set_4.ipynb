{
 "cells": [
  {
   "cell_type": "markdown",
   "id": "5e3b373c-fef9-4fff-8d5c-f42dc74db8be",
   "metadata": {},
   "source": [
    "# TKT4108 Structural Dynamics 2\n",
    "\n",
    "## Exercise 4\n",
    "\n",
    "**Main topics:** Monte Carlo simulation of time series, auto and cross-correlation, auto and cross-spectral density\n",
    "\n",
    "**References:** Newland Chapter 4-5\n"
   ]
  },
  {
   "cell_type": "markdown",
   "id": "e8f9e8c5-dbc5-4227-b8e6-136c5e163114",
   "metadata": {},
   "source": [
    "### Problem 1: Simulation of time series using auto correlation function\n",
    "\n",
    "Consider a single degree of freedom system:\n",
    "\n",
    "$$m\\ddot{y}(t)+c\\dot{y}(t)+ky(t)=x(t)$$\n",
    "\n",
    "where $m=1$, $c=5$, and $k=100$. The load $x(t)$ is a stochastic process with the following auto correlation function:\n",
    "\n",
    "$$ R_x(\\tau)= \\sigma_x^2 \\exp( - \\dfrac{\\tau^2}{2 L^2}) \\cos(\\omega \\tau )$$\n",
    "\n",
    "Set $\\sigma_x=20$ and $L=1$.\n",
    "\n",
    "Set the time step $\\Delta t=0.05$ s and simulation length $T=60$ s for the time axis.\n",
    "\n",
    "**a)** Generate a realization of the load history $x(t)$ when $\\omega=8$ rad/s. Find the response $y(t)$ by Newmark numerical integration (set initial conditions to zero).\n",
    "\n",
    "Hint: look at the simulation technique in Example 2_1\n",
    "\n",
    "**b**) Calculate the standard deviation of the load ($\\sigma_x$) and the response ($\\sigma_y$) from the time series.\n",
    "\n",
    "**c)** Repeat question a) and b), but vary $\\omega$ from 1 rad/s to 15 rad/s in increments of 1. For which $\\omega$ do you obtain the greatest dynamic response and why?\n"
   ]
  },
  {
   "cell_type": "markdown",
   "id": "772af2b4-3e6c-4175-a957-14a1370f492e",
   "metadata": {},
   "source": [
    "### Problem 2: Fourier series\n",
    "\n",
    "Consider the triangle wave function $f(x)=1-|x|$ for $x \\in [-1,1]$ that is repeated periodically.\n",
    "\n",
    "<center>\n",
    "<img src=\"triangle_wave.svg\">\n",
    "</center>\n",
    "\n",
    "Find, using numerical integration, the Fourier series of $f(x)$ with $N=2,4,8,16,32$ terms and compare it to the original function.\n",
    "\n",
    "Explain why all the sine-coefficients in the Fourier series of this function will be zero.\n",
    "\n",
    "Hint: look at Example 3_1\n",
    "\n"
   ]
  },
  {
   "cell_type": "markdown",
   "id": "00c8954b-971b-4098-9b18-5190a7816225",
   "metadata": {},
   "source": [
    "### Problem 3: Technical terms\n",
    "\n",
    "**a)** Explain the term one-sided auto spectral density and how it relates to two-sided spectral density.\n",
    "\n",
    "**b)** Explain the fundamental properties of auto spectral densities and cross-spectral densities. (Hint: symmetry, real/complex)\n",
    "\n",
    "**c)** Explain why it is necessary that the imaginary part of the cross-spectral density is anti-symmetric. (Hint: relation to time domain)\n"
   ]
  },
  {
   "cell_type": "markdown",
   "id": "1a445313-a81d-4013-be78-99974c9ab3e3",
   "metadata": {},
   "source": [
    "### Problem 4: Relation between auto correlation and spectral density\n",
    "\n",
    "**a)** Consider the auto correlation function:\n",
    "\n",
    "$$ R(\\tau)= \\sigma^2 \\exp( - \\dfrac{\\tau^2}{2 L^2}) $$\n",
    "\n",
    "where $L$ is a positive constant. Find the corresponding spectral density $S(\\omega)$ by hand calculation.\n",
    "\n",
    "**b)** Consider the spectral density:\n",
    "\n",
    "$$ S(\\omega)= \\dfrac{\\sigma^2 \\cdot 2a}{2\\pi} \\cdot \\dfrac{1}{a^2+\\omega^2} $$\n",
    "\n",
    "where $a$ is a positive constant. Find the corresponding auto correlation function $R(\\tau)$ by hand calculation.\n",
    "\n",
    "**c)** Repeat question a), but find instead $S(\\omega)$ by calculating the Fourier transform using numerical integration. Compare the numerical result with the hand calculation in a plot. Set $\\sigma=20$ and $L=3$. Confirm that the area under the spectrum is equal to the variance.\n",
    "\n",
    "Hint: look at Example 3_2\n",
    "\n",
    "**d)** Repeat question b), but find instead $R(\\tau)$ by calculating the inverse Fourier transform using numerical integration. Compare the numerical result with the hand calculation in a plot. Set $\\sigma=20$ and $a=0.5$. Confirm that the area under the spectrum is equal to the variance.\n",
    "\n"
   ]
  },
  {
   "cell_type": "code",
   "execution_count": null,
   "id": "852b4b6e-c4c8-4e7b-9907-feec7308b021",
   "metadata": {},
   "outputs": [],
   "source": []
  }
 ],
 "metadata": {
  "kernelspec": {
   "display_name": "Python 3 (ipykernel)",
   "language": "python",
   "name": "python3"
  },
  "language_info": {
   "codemirror_mode": {
    "name": "ipython",
    "version": 3
   },
   "file_extension": ".py",
   "mimetype": "text/x-python",
   "name": "python",
   "nbconvert_exporter": "python",
   "pygments_lexer": "ipython3",
   "version": "3.11.7"
  },
  "toc-autonumbering": false,
  "toc-showcode": true,
  "toc-showmarkdowntxt": false,
  "toc-showtags": false
 },
 "nbformat": 4,
 "nbformat_minor": 5
}
