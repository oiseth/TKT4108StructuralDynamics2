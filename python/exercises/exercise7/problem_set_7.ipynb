{
 "cells": [
  {
   "attachments": {},
   "cell_type": "markdown",
   "id": "5e3b373c-fef9-4fff-8d5c-f42dc74db8be",
   "metadata": {},
   "source": [
    "# TKT4108 Structural Dynamics 2\n",
    "\n",
    "## Exercise 7\n",
    "\n",
    "**Main topics:**  Spectral density of dynamic response, extreme response of narrow banded processes\n",
    "\n",
    "**References:** Newland Chapter 7, 8\n"
   ]
  },
  {
   "cell_type": "markdown",
   "id": "e8f9e8c5-dbc5-4227-b8e6-136c5e163114",
   "metadata": {
    "jp-MarkdownHeadingCollapsed": true
   },
   "source": [
    "### Problem 1: Transmission of random variables \n",
    "\n",
    "In this problem, we will consider the glulam truss displayed below. The truss carries the roof of an industrial building, and there is production equipment used in the factory that is hanging down from the truss, introducing a stochastic dynamic excitation. In this problem, we will assess the vibrations and the load effects caused by the two stochastic loads.\n",
    "\n",
    "<center>\n",
    "<img src=\"truss.svg\" width=100%>\n",
    "</center>\n",
    "\n",
    "The truss spans 14 m, and the height of the truss is 1 m (measured from the centre bottom chord to the centre of the upper chord ). The members have cross-sectional dimensions of $b \\times h=200 \\times 200$ mm.  Set the elastic modulus $E=10\\cdot 10^3$ MPa. Assume a density of the material of $\\rho=2000$  kg/m$^3$. The density is higher than the glue-laminated timber since we have included mass from structural components that do not provide stiffness to the truss (the roof, secondary beams that support the roof, and other installations).\n",
    "\n",
    "We will model the structure using bar elements with four degrees of freedom. The mass and stiffness matrix of the bar element in local coordinates are given as follows:\n",
    "\n",
    "$$ \\mathbf{k} = \\frac{EA}{L} \\left[ \\begin{array}{cccc} 1 & 0 & -1 & 0 \\\\ 0 & 0 & 0 & 0 \\\\  -1 & 0 & 1 & 0 \\\\  0 & 0 & 0 & 0       \\end{array} \\right] $$\n",
    "\n",
    "\n",
    "$$ \\mathbf{m} = \\frac{\\rho A L}{6} \\left[ \\begin{array}{cccc} 2 & 0 & 1 & 0 \\\\ 0 & 2 & 0 & 1 \\\\  1 & 0 & 2 & 0 \\\\  0 & 1 & 0 & 2       \\end{array} \\right] $$\n",
    "\n",
    "\n",
    "**a)** Make a python script that creates the truss's global mass and stiffness matrices and calculates the structure's natural frequencies and mode shapes. Plot the first two vibration modes.\n",
    "\n",
    "Hint: look at Example 4.3 and adapt the code. Build the global matrices element-by-element. Remember to include coordinate transformations.\n",
    "\n",
    "**b)** Obtain a Rayleigh damping matrix $\\mathbf{C}$ that provides 0.5 \\% damping in the first and second vibration mode.\n",
    "\n",
    "**c)** The two loads are not correlated, and the following expression defines their one-sided auto spectral density. Use Monte Carlo simulations to generate realizations of the two loads. Set $T=60$ s and $\\Delta t=10^{-3}$ s.\n",
    "\n",
    "$$ S_x(\\omega)= \\frac{10 000}{\\pi}\\left(\\frac{\\alpha}{\\alpha^2 + (\\omega-\\omega_0)^2} \\right) $$\n",
    "\n",
    "Assume $\\alpha = 10$ and $\\omega_0=10\\pi$\n",
    "\n",
    "**d)** Use Newmark integration to obtain the dynamic response of the truss. Plot time series of the axial force in the two diagonals in the middle of the truss. Also, calculate the standard deviation and the correlation coefficient of the axial force in the two diagonals. Are the results as expected? Please explain.\n",
    "\n",
    "Hint: cross-sectional forces are functions (transformations) of the nodal responses. Consider how e.g. $N_{20}$ is related to the displacements in node 4 and 12. Remember also to consider global-to-local transformations.\n",
    "\n",
    "**e)** Compute the auto- and cross-spectral density of the axial forces in the two diagonal elements 20 and 21. Perform the calculations in the frequency domain and compare your results to the ones obtained in the time domain. Try to make the calculations for several realizations of the loads and observe how the results change, and describe your observations. \n",
    "\n"
   ]
  },
  {
   "cell_type": "markdown",
   "id": "39b91066-587c-4561-b910-129c63e74197",
   "metadata": {},
   "source": [
    "### Problem 2: Response statistics\n",
    "\n",
    "In this problem we will consider the single degree of freedom system shown below. The system consists of a rigid beam with distributed mass $m$, a point mass $M=mL$, a spring with stiffness $k$, and a dashpot damper with damping coefficient $c$. \n",
    "\n",
    "The system is simply supported in one end as shown in the figure and is subjected to a stochastic load $x(t)$ defined by the spectral density:\n",
    "\n",
    "$$ S_x(\\omega) = \\frac{2000\\alpha}{2\\pi\\left(\\alpha^2 + \\omega^2\\right)}  $$\n",
    "\n",
    "Assume that $\\alpha$=1.\n",
    "\n",
    "<center>\n",
    "<img src=\"rod.svg\">\n",
    "</center>\n",
    "\n",
    "**a)** Obtain the equation of motion for the system. The distributed mass, $m$ is 100 kg/m, the length is $L=3$ m, the undamped natural frequency is $f_n=1$ Hz, and the damping ratio is $\\xi=0.2$\\%. Find also the corresponding value of $c$ and $k$.\n",
    "\n",
    "**b)** Plot the spectral density of the stochastic load and calculate its variance.\n",
    "\n",
    "**c)** Calculate the auto-spectral density of the response $y$. Is the response  a narrowbanded process?\n",
    "\n",
    "**d)** Obtain the probability density function for the spring force.\n",
    "\n",
    "**e)** Obtain the Rayleigh distribution of all peaks of the spring force.\n",
    "\n",
    "**f)** Obtain the Gumbel distribution (extreme value distribution) of the largest spring force for a time period of 1 hour. Plot the distribution and calculate its expected value.\n",
    "\n",
    "**g)** Repeat question f), but consider a period of $1,2,3,\\dots,24$ hours. Comment on the result.\n",
    "\n",
    "Hint: look at example 5.2"
   ]
  },
  {
   "cell_type": "code",
   "execution_count": null,
   "id": "cc63ad14-532f-4fd6-bdf2-4a5a21afc34d",
   "metadata": {},
   "outputs": [],
   "source": []
  }
 ],
 "metadata": {
  "kernelspec": {
   "display_name": "Python 3 (ipykernel)",
   "language": "python",
   "name": "python3"
  },
  "language_info": {
   "codemirror_mode": {
    "name": "ipython",
    "version": 3
   },
   "file_extension": ".py",
   "mimetype": "text/x-python",
   "name": "python",
   "nbconvert_exporter": "python",
   "pygments_lexer": "ipython3",
   "version": "3.11.7"
  },
  "toc-autonumbering": false,
  "toc-showcode": true,
  "toc-showmarkdowntxt": false,
  "toc-showtags": false
 },
 "nbformat": 4,
 "nbformat_minor": 5
}
