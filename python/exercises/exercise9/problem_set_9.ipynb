{
 "cells": [
  {
   "attachments": {},
   "cell_type": "markdown",
   "id": "5e3b373c-fef9-4fff-8d5c-f42dc74db8be",
   "metadata": {},
   "source": [
    "# TKT4108 Structural Dynamics 2\n",
    "\n",
    "## Exercise 9\n",
    "\n",
    "**Main topics:**  Estimation of spectra\n",
    "\n",
    "**References:** Github examples, lecture notes\n"
   ]
  },
  {
   "cell_type": "markdown",
   "id": "a50c65b7-23fd-4a72-8abb-26589a1ba7b6",
   "metadata": {},
   "source": [
    "\n",
    "### Problem 1\n",
    "In this problem, we will consider a single degree of freedom dynamic system with a mass of 100 kg, a natural frequency of 1 Hz and a damping ratio of 5%. The system is subjected to a zero mean stochastic dynamic load with a one-sided spectral density:\n",
    "\n",
    "$$ S_{X}(\\omega)= 10^3/(1+0.01 \\omega^2+0.0001 \\omega^4) $$\n",
    "\n",
    "<img src=\"mass_spring_sdof.svg\">\n",
    "\n",
    "**a)** Obtain the auto spectral density of the response by calculating the response in the frequency domain. Calculate the standard deviation of the response.\n",
    "\n",
    "**b)**  Determine a suitable time step $\\Delta t$ for numerical simulation of this system. Generate a time-domain realization of the load by Monte Carlo simulation with length $T=600$ s. Calculate the dynamic response of the system using Newmark's method.\n",
    "\n",
    "**c)** Estimate the auto-spectral density of the response from the times series using the FFT method. Present results by considering the average auto-spectral density of 10 time series that each are 600 seconds long. \n",
    "\n",
    "**d)** Compare the auto-spectral density estimated from the time domain data (question c) to the frequency domain solution (question a). Comment on any discrepancies you observe.\n"
   ]
  },
  {
   "cell_type": "markdown",
   "id": "2b81492f-7698-4afa-820e-486615b16ea8",
   "metadata": {},
   "source": [
    "### Problem 2\n",
    "\n",
    "In this problem, we will consider the 5-story shear frame displayed below. The mass of each story is 1000 kg, and the columns are made of RHS 100x100x6.3 Set $I_y = 3.36 \\cdot 10^{6} $ mm$^4$ and $E=210\\cdot 10^3$ MPa. The damping ratio of all modes is 2\\%. The story height is 3 meters.\n",
    "\n",
    "<img src=\"shearframe_5dof.svg\">\n",
    "\n",
    "**a)** Obtain the mass, stiffness, and damping matrices of the structure.\n",
    "\n",
    "Hint: the modal damping is $\\tilde{\\mathbf{C}}=\\mathbf{\\Phi}^\\text{T}\\mathbf{C}\\mathbf{\\Phi}$. Define the modal damping and use it to calculate the damping in original coordinates.\n",
    "\n",
    "**b)** The frame is subjected to two uncorrelated loads with constant auto-spectral one-sided density:\n",
    "\n",
    "$$ S_{X}(\\omega)= \\left\\{ \\begin{array} {c} 10^8 \\quad \\omega \\le 60 \\\\ 0 \\quad \\omega > 60 \\end{array} \\right. $$\n",
    "\n",
    "Calculate the auto-and cross-spectral densities of the response of stories 1 and 3.\n",
    "\n",
    "**c)** Create a realization of the load for $T=30$ min, and calculate the dynamic response of the frame in the time domain. Choose a suitable time step $\\Delta t$.\n",
    "\n",
    "**d)** Using the response from question c), estimate the auto spectral densities of the response in degrees of freedom 1 and 3 using Welch's method. How many windows would you recommend using?\n",
    "\n",
    "**e)** Using the response from question c), estimate the cross-spectral density of the response in degrees of freedom 1 and 3 using Welch's method. How many windows would you recommend using?\n",
    "\n"
   ]
  },
  {
   "cell_type": "code",
   "execution_count": null,
   "id": "b695ed3f-6f0c-4dcb-a1fd-c4196ff1832b",
   "metadata": {},
   "outputs": [],
   "source": []
  }
 ],
 "metadata": {
  "kernelspec": {
   "display_name": "Python 3 (ipykernel)",
   "language": "python",
   "name": "python3"
  },
  "language_info": {
   "codemirror_mode": {
    "name": "ipython",
    "version": 3
   },
   "file_extension": ".py",
   "mimetype": "text/x-python",
   "name": "python",
   "nbconvert_exporter": "python",
   "pygments_lexer": "ipython3",
   "version": "3.13.5"
  },
  "toc-autonumbering": false,
  "toc-showcode": true,
  "toc-showmarkdowntxt": false,
  "toc-showtags": false
 },
 "nbformat": 4,
 "nbformat_minor": 5
}
