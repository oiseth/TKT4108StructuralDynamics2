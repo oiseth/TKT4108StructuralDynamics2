{
 "cells": [
  {
   "cell_type": "markdown",
   "metadata": {},
   "source": [
    "# Example 10.5 Dynamic wind load on a tall building\n",
    "\n",
    "\n",
    "### Structure\n",
    "\n",
    "We consider a tall building modelled as an equivalent cantilever beam. We may consider the two first modes of the building in this example, although we have to do one mode a time.\n",
    "\n",
    "<img src=\"./figures/Tall_building_wind.svg\">\n",
    "\n",
    "The mode shapes are given by:\n",
    "\n",
    "$$\n",
    "\\phi_1(x)=\\left( \\dfrac{x}{L} \\right)^3\n",
    "$$\n",
    "\n",
    "$$\n",
    "\\phi_2(x)=4  \\left( \\dfrac{x}{L} \\right)^2-5  \\left( \\dfrac{x}{L} \\right)^3\n",
    "$$\n",
    "\n",
    "These modes both have modal mass $\\tilde{m}=10^6$ kg and damping $\\xi=0.5$%, and their natural frequencies are $0.3$ Hz and $1$ Hz.\n",
    "\n",
    "### Distributed wind load\n",
    "\n",
    "The distributed (linearized) wind load is given by:\n",
    "\n",
    "$$q(x,t)=\\rho D C_D V u(x,t) - \\rho D C_D V \\dot{r}_y(x,t) + \\dfrac{1}{2} \\rho D C_D V^2$$\n",
    "\n",
    "We recognize that this contains a turbulence term, a motion-induced term, and a static term. We disregard the static load in the following.\n",
    "\n",
    "We assume the structural response can be considered mode-by-mode, and calculate for a single mode here: ${r}_y(x,t)=\\phi(x) z(t)$.\n",
    "\n",
    "The modal equation of motion is:\n",
    "\n",
    "$$\n",
    "\\ddot{z}(t)+2\\omega_n \\xi \\dot{z}(t)+\\omega_n^2 z(t)=\\dfrac{1}{\\tilde{m}} \\int_0^L q(x,t) \\phi(x) \\: \\text{d} x\n",
    "$$\n",
    "\n",
    "We have to deal with the integral $ \\int_0^L q(x,t) \\phi(x) \\: \\text{d} x$.\n",
    "\n",
    "### Spectrum of dynamic (turbulent) wind load:\n",
    "\n",
    "We first consider the part of the load related to the turbulence $u(x,t)$. The modal load is the load integrated over the span (times the mode shape):\n",
    "\n",
    "$$\\tilde{q}(t)=\n",
    "\\dfrac{1}{\\tilde{m}}\n",
    " \\int_0^L \\rho D C_D V \\: u(x,t) \\: \\phi(x) \\: \\text{d} x\n",
    "$$\n",
    "\n",
    "The auto correlation of the modal load is:\n",
    "\n",
    "$$\n",
    "\\begin{align}\n",
    "R_{\\tilde{q}}(\\tau) &= E\\left[\\tilde{q}(t) \\tilde{q}(t+\\tau) \\right]  \\\\\n",
    "&=\n",
    "\\left( \\dfrac{\\rho D C_D V}{\\tilde{m}} \\right)^2\n",
    "E\\left[\\int_{0}^{L}\\int_{0}^{L} u(x,t) \\phi(x_1) u(x+ \\Delta x,t+\\tau) \\phi(x_2) \\, \\text{d}x_1 \\, \\text{d}x_2\\right] \\\\\n",
    "&=\n",
    "\\left( \\dfrac{\\rho D C_D V}{\\tilde{m}} \\right)^2\n",
    "\\int_{0}^{L} \\int_{0}^{L} \\phi(x_1) \\phi(x_2) R_{u_1 u_2}(\\tau, \\Delta x) \\, \\text{d}x_1 \\, \\text{d}x_2\n",
    "\\end{align}\n",
    "$$\n",
    "\n",
    "Using the Fourier transform to the equation above, the auto spectral density of the modal load is:\n",
    "\n",
    "$$\n",
    "S_{\\tilde{q}}(\\omega)=\n",
    "\\left( \\dfrac{\\rho D C_D V}{\\tilde{m}} \\right)^2\n",
    "\\int_{0}^{L} \\int_{0}^{L} \\phi(x_1) \\phi(x_2) S_{u_1 u_2}(\\omega, \\Delta x) \\, \\text{d}x_1 \\, \\text{d}x_2\n",
    "$$\n",
    "\n",
    "\n",
    "We recognize $ S_{u_1 u_2}(\\omega, \\Delta x)$ as the cross-spectral density of the turbulence in two points:\n",
    "\n",
    "\n",
    "$$\n",
    "S_u(\\omega, \\Delta x)=S_u(\\omega) \\text{Coh}(\\omega, \\Delta x)\n",
    "$$\n",
    "\n",
    "where is the single-point (auto) spectrum and $ \\text{Coh}(\\omega, \\Delta x)$ is the coherence function.\n",
    "\n",
    "\n"
   ]
  },
  {
   "cell_type": "markdown",
   "metadata": {},
   "source": [
    "### Define problem parameters\n",
    "\n",
    "We introduce some parameters for the structure and wind field.\n"
   ]
  },
  {
   "cell_type": "code",
   "execution_count": 245,
   "metadata": {},
   "outputs": [],
   "source": [
    "import numpy as np\n",
    "from matplotlib import pyplot as plt\n",
    "from mpl_toolkits import mplot3d\n",
    "from matplotlib import cm\n",
    "\n",
    "# Define problem parameters\n",
    "rho=1.2 # Air density\n",
    "D=20 # Building width\n",
    "C_D=1.2 # Drag coefficient\n",
    "L=300 # Height of building\n",
    "m_modal=1e6 # Modal mass\n",
    "\n",
    "xLu=200.0/5 # Length scale\n",
    "Au=5.0 # Spectral parameter\n",
    "V=30.0 # Mean wind velocity\n",
    "Iu=0.10 # Turbulence intensity\n",
    "Ku=10.0 # Coherence parameter\n",
    "\n",
    "# Turbulence spectrum, Kaimal type\n",
    "def S_u(omega):\n",
    "\n",
    "    omega_u=omega*xLu/V\n",
    "    sigma_u=V*Iu\n",
    "    Su = (sigma_u)**2 /omega*(Au/(2*np.pi))*omega_u/((1+1.5*(Au/(2*np.pi))*omega_u)**(5.0/3.0))\n",
    "    \n",
    "    return Su\n",
    "\n",
    "# Coherence function\n",
    "def Coh(omega,delta_x):\n",
    "    return np.exp(-Ku*delta_x*omega/(2*np.pi)/V)\n",
    "\n",
    "# Define mode shape\n",
    "def phi(x):\n",
    "    return (x/L)**3 # Mode 1\n",
    "    #return 4*(x/L)**2-5*(x/L)**3 # Mode 2\n",
    "\n",
    "# Cross spectral density\n",
    "def S_u1_u2(omega,delta_x):\n",
    "    return S_u(omega)*Coh(omega,delta_x)\n"
   ]
  },
  {
   "cell_type": "markdown",
   "metadata": {},
   "source": [
    "### Plot mode shape"
   ]
  },
  {
   "cell_type": "code",
   "execution_count": 246,
   "metadata": {},
   "outputs": [
    {
     "data": {
      "text/plain": [
       "Text(0.5, 1.0, 'Mode shape')"
      ]
     },
     "execution_count": 246,
     "metadata": {},
     "output_type": "execute_result"
    },
    {
     "data": {
      "image/png": "[encoded data removed]",
      "text/plain": [
       "<Figure size 800x300 with 1 Axes>"
      ]
     },
     "metadata": {},
     "output_type": "display_data"
    }
   ],
   "source": [
    "plt.figure(figsize=(8,3))    \n",
    "plt.plot(x1,phi(x1))\n",
    "plt.xlabel(r'$x$')\n",
    "plt.ylabel(r'$\\phi(x)$')\n",
    "plt.grid()\n",
    "plt.title('Mode shape')"
   ]
  },
  {
   "cell_type": "markdown",
   "metadata": {},
   "source": [
    "### Calculate double integral for modal load\n",
    "\n",
    "We now calculate $$\n",
    "S_{\\tilde{q}}(\\omega)=\n",
    "\\left( \\dfrac{\\rho D C_D V}{\\tilde{m}} \\right)^2\n",
    "\\int_{0}^{L} \\int_{0}^{L} \\phi(x_1) \\phi(x_2) S_{u_1 u_2}(\\omega, \\Delta x) \\, \\text{d}x_1 \\, \\text{d}x_2\n",
    "$$ numerically. The integral has to be solved for each $\\omega$ in our frequency vector.\n"
   ]
  },
  {
   "cell_type": "code",
   "execution_count": 247,
   "metadata": {},
   "outputs": [
    {
     "ename": "NameError",
     "evalue": "name 'm' is not defined",
     "output_type": "error",
     "traceback": [
      "\u001b[1;31m---------------------------------------------------------------------------\u001b[0m",
      "\u001b[1;31mNameError\u001b[0m                                 Traceback (most recent call last)",
      "Cell \u001b[1;32mIn[247], line 15\u001b[0m\n\u001b[0;32m     12\u001b[0m     integrand[k] \u001b[38;5;241m=\u001b[39m phi(X1) \u001b[38;5;241m*\u001b[39m phi(X2) \u001b[38;5;241m*\u001b[39m S_u1_u2(omega[k],Delta_x)\n\u001b[0;32m     13\u001b[0m     integral_values[k] \u001b[38;5;241m=\u001b[39m np\u001b[38;5;241m.\u001b[39mtrapz(np\u001b[38;5;241m.\u001b[39mtrapz(integrand[k], x2), x1)\n\u001b[1;32m---> 15\u001b[0m Sq_modal \u001b[38;5;241m=\u001b[39m \u001b[38;5;241m1\u001b[39m\u001b[38;5;241m/\u001b[39mm\u001b[38;5;241m-\u001b[39m_modal\u001b[38;5;241m*\u001b[39m\u001b[38;5;241m*\u001b[39m\u001b[38;5;241m2\u001b[39m\u001b[38;5;241m*\u001b[39m(rho\u001b[38;5;241m*\u001b[39mD\u001b[38;5;241m*\u001b[39mC_D\u001b[38;5;241m*\u001b[39mV)\u001b[38;5;241m*\u001b[39m\u001b[38;5;241m*\u001b[39m\u001b[38;5;241m2\u001b[39m\u001b[38;5;241m*\u001b[39mintegral_values\n\u001b[0;32m     17\u001b[0m \u001b[38;5;66;03m# Plot integrand\u001b[39;00m\n\u001b[0;32m     18\u001b[0m fig, ax \u001b[38;5;241m=\u001b[39m plt\u001b[38;5;241m.\u001b[39msubplots(subplot_kw\u001b[38;5;241m=\u001b[39m{\u001b[38;5;124m\"\u001b[39m\u001b[38;5;124mprojection\u001b[39m\u001b[38;5;124m\"\u001b[39m: \u001b[38;5;124m\"\u001b[39m\u001b[38;5;124m3d\u001b[39m\u001b[38;5;124m\"\u001b[39m},figsize\u001b[38;5;241m=\u001b[39m(\u001b[38;5;241m8\u001b[39m,\u001b[38;5;241m6\u001b[39m))\n",
      "\u001b[1;31mNameError\u001b[0m: name 'm' is not defined"
     ]
    }
   ],
   "source": [
    "\n",
    "x1 = np.linspace(0, L, 300)  # Adjust grid size for accuracy\n",
    "x2 = np.linspace(0, L, 300)\n",
    "X1, X2 = np.meshgrid(x1, x2)\n",
    "Delta_x = np.abs(X1 - X2) # All combinations of x1 and x2 as an array\n",
    "\n",
    "omega=np.linspace(0.01,10,300) # Frequency axis\n",
    "integral_values=np.zeros_like(omega) # Empty vector to save calculated integral value\n",
    "integrand=[None]*len(omega) # Empty list to save integrand for plotting\n",
    "\n",
    "# Loop over frequencies\n",
    "for k in np.arange(len(omega)):\n",
    "    integrand[k] = phi(X1) * phi(X2) * S_u1_u2(omega[k],Delta_x)\n",
    "    integral_values[k] = np.trapz(np.trapz(integrand[k], x2), x1)\n",
    "\n",
    "Sq_modal = 1/m-_modal**2*(rho*D*C_D*V)**2*integral_values\n",
    "\n",
    "# Plot integrand\n",
    "fig, ax = plt.subplots(subplot_kw={\"projection\": \"3d\"},figsize=(8,6))\n",
    "\n",
    "surf = ax.plot_surface(X1, X2, integrand[50].T, cmap=cm.coolwarm,linewidth=0.1, antialiased=False)\n",
    "ax.view_init(30,250)\n",
    "ax.set_xlabel(r'$x_1$')\n",
    "ax.set_ylabel(r'$x_2$');\n",
    "ax.set_zlabel(r'$\\phi(x_1)*\\phi(x_2)*S_q(\\omega,\\Delta x)$');\n",
    "ax.set_title('Integrand for $\\omega=$' + '{:.3f}'.format(omega[50]) )\n",
    "\n",
    "fig.colorbar(surf, shrink=0.3, aspect=10)\n",
    "\n",
    "# Plot modal load\n",
    "plt.figure(figsize=(8,3))    \n",
    "plt.plot(omega,Sq_modal)\n",
    "plt.xlabel(r'$\\omega$')\n",
    "plt.ylabel(r'$R_{q}(\\omega)$')\n",
    "plt.grid()\n",
    "plt.yscale('log')\n",
    "plt.title('Modal load spectrum')\n"
   ]
  },
  {
   "cell_type": "markdown",
   "metadata": {},
   "source": [
    "### Aerodynamic damping\n",
    "\n",
    "We next consider the part of the load related to motion-induced effects:\n",
    "\n",
    "$$\n",
    "-\\dfrac{1}{\\tilde{m}}\n",
    " \\int_0^L \\rho D C_D V \\: \\dot{r}_y(x,t) \\: \\phi(x) \\: \\text{d} x =\n",
    "-\\dfrac{1}{\\tilde{m}}\n",
    " \\int_0^L \\rho D C_D V \\:\\phi(x) \\dot{z}(t) \\: \\phi(x) \\: \\text{d} x =\n",
    "-\\dfrac{1}{\\tilde{m}}\n",
    " \\int_0^L \\rho D C_D V \\:\\phi(x) \\: \\phi(x) \\: \\text{d} x \\:\\: \\dot{z}(t) \n",
    "$$\n",
    "\n",
    "Here, the integral is equal to the modal aerodynamic damping:\n",
    "\n",
    "$$\n",
    "\\tilde{c}_{ae}=\n",
    "-\\dfrac{1}{\\tilde{m}}\n",
    " \\int_0^L \\rho D C_D V \\:\\phi(x)^2 \\: \\text{d} x  \n",
    "$$\n"
   ]
  },
  {
   "cell_type": "code",
   "execution_count": null,
   "metadata": {},
   "outputs": [],
   "source": [
    "\n",
    "cae_modal=-1/m_modal*rho*D*C_D*V*np.trapz(phi(x1)**2,x1)\n"
   ]
  },
  {
   "cell_type": "markdown",
   "metadata": {},
   "source": [
    "### Response spectrum\n",
    "\n",
    "The modal frequency response function is now\n",
    "$$\\tilde{H}(\\omega) = \\frac{1}{-\\omega^2+i\\omega \\left(2\\omega_n \\xi-\\tilde{c}_{ae} \\right) + \\omega_n^2} $$\n",
    "\n",
    "The auto-spectral density of the modal response is:\n",
    "\n",
    "$$S_{z}(\\omega) = |\\tilde{H}(\\omega)|^2 S_{\\tilde{q}}(\\omega)$$ \n",
    "\n",
    "And the response at the top of the building is:\n",
    "\n",
    "$$S_{r_y}(\\omega) = \\phi(x=L)^2S_{z}(\\omega) =1^2 \\cdot S_{z}(\\omega) =S_{z}(\\omega)$$"
   ]
  },
  {
   "cell_type": "code",
   "execution_count": null,
   "metadata": {},
   "outputs": [],
   "source": [
    "\n",
    "omegan=0.3*2*np.pi # 0.3 Hz, mode 1\n",
    "#omegan=1*2*np.pi # 1 Hz, mode 2\n",
    "xi=0.5/100\n",
    "\n",
    "H_modal=1/(-omega**2+1j*omega*(2*omegan*xi-cae_modal)+omegan**2)\n",
    "H_no_cae=1/(-omega**2+1j*omega*(2*omegan*xi)+omegan**2)\n",
    "\n",
    "plt.figure(figsize=(8,3))\n",
    "plt.plot(omega,np.abs(H_modal),color='C0',label=('Abs (V = ' + str(V) + ' m/s)'))\n",
    "plt.plot(omega,np.abs(H_no_cae),color='C6',linestyle='--',label=('Abs (No cae)'))\n",
    "plt.grid()\n",
    "plt.xlabel(r'$\\omega$')\n",
    "plt.ylabel(r'$|H(\\omega)|$')\n",
    "plt.legend()\n"
   ]
  },
  {
   "cell_type": "code",
   "execution_count": null,
   "metadata": {},
   "outputs": [],
   "source": [
    "Sz = np.abs(H_modal)**2*Sq_modal # Auto spectral density of the modal response\n",
    "\n",
    "Sy = phi(L)**2*Sz # Auto spectral density of the response at the top\n",
    "\n",
    "plt.figure(figsize=(8,3))\n",
    "plt.plot(omega,np.real(Sy),label=('Real (V = ' + str(V) + ' m/s)'))\n",
    "plt.grid()\n",
    "plt.xlabel(r'$\\omega$')\n",
    "plt.ylabel(r'$S_y(\\omega)$')\n",
    "plt.legend()\n",
    "plt.yscale('log')"
   ]
  },
  {
   "cell_type": "code",
   "execution_count": null,
   "metadata": {},
   "outputs": [],
   "source": [
    "std_y = np.real(np.trapz(Sy,omega))**0.5 # Standard deviation of the response\n",
    "\n",
    "print('Standard deviation is ' + '{:.2f}'.format(std_y*1000) + ' mm')\n"
   ]
  }
 ],
 "metadata": {
  "kernelspec": {
   "display_name": "Python 3 (ipykernel)",
   "language": "python",
   "name": "python3"
  },
  "language_info": {
   "codemirror_mode": {
    "name": "ipython",
    "version": 3
   },
   "file_extension": ".py",
   "mimetype": "text/x-python",
   "name": "python",
   "nbconvert_exporter": "python",
   "pygments_lexer": "ipython3",
   "version": "3.11.7"
  }
 },
 "nbformat": 4,
 "nbformat_minor": 4
}
