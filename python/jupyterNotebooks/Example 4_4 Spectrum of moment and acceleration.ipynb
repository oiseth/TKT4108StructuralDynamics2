{
 "cells": [
  {
   "cell_type": "markdown",
   "id": "7b088dff-f3f8-4f4b-9807-83db1c0a1dec",
   "metadata": {},
   "source": [
    "# Example 4.5: Spectral density of transformed processes\n",
    "\n",
    "## Problem\n",
    "In this example, we will look at the spectral density of a transformed process through matrix transformations:\n",
    "\n",
    "Let $\\mathbf{S}_\\mathbf{x}(\\omega)$ be the $2\\times 2$ cross-spectral density matrix of $\\mathbf{x}(t)$:\n",
    "\n",
    "$$\n",
    "\\mathbf{x}(t)=\n",
    "\\left[\n",
    "\\begin{array}{c}\n",
    "x_1(t) \\\\\n",
    "x_2(t) \\\\\n",
    "\\end{array}\n",
    "\\right] \n",
    "$$\n",
    "\n",
    "where $x_1(t)$ and $x_1(t)$ are two random processes. Let $\\mathbf{\\tilde{x}}(t)$ be a transformation of $\\mathbf{x}(t)$:\n",
    "\n",
    "$$\n",
    "\\mathbf{\\tilde{x}}(t)=\n",
    "\\left[\n",
    "\\begin{array}{c}\n",
    "\\tilde{x}_1(t) \\\\\n",
    "\\tilde{x}_2(t) \\\\\n",
    "\\end{array}\n",
    "\\right]\n",
    "=\n",
    "\\mathbf{T}\n",
    "\\mathbf{x}(t)\n",
    "$$\n",
    "\n",
    "where $\\mathbf{T}$ is a $2\\times2$ transformation matrix. We will show that the cross-spectral density matrix for $\\mathbf{\\tilde{x}}(t)$ is given by:\n",
    "\n",
    "$$\n",
    "\\mathbf{S}_\\mathbf{\\tilde{x}}(\\omega)\n",
    "=\\mathbf{T}\n",
    "\\mathbf{S}_\\mathbf{x}(\\omega)\n",
    "\\mathbf{T}^\\text{T}\n",
    "$$\n",
    "\n",
    "## Solution\n",
    " "
   ]
  }
 ],
 "metadata": {
  "kernelspec": {
   "display_name": "Python 3 (ipykernel)",
   "language": "python",
   "name": "python3"
  },
  "language_info": {
   "codemirror_mode": {
    "name": "ipython",
    "version": 3
   },
   "file_extension": ".py",
   "mimetype": "text/x-python",
   "name": "python",
   "nbconvert_exporter": "python",
   "pygments_lexer": "ipython3",
   "version": "3.13.5"
  }
 },
 "nbformat": 4,
 "nbformat_minor": 5
}
